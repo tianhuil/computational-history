{
 "cells": [
  {
   "cell_type": "code",
   "execution_count": 1,
   "metadata": {},
   "outputs": [],
   "source": [
    "%load_ext autoreload\n",
    "\n",
    "%autoreload 2\n",
    "\n",
    "from glob import glob\n",
    "from dask.delayed import delayed\n",
    "import dask.dataframe as dd\n",
    "import pandas as pd\n",
    "\n",
    "from src.utils import read_ngrams, save_ngrams"
   ]
  },
  {
   "cell_type": "code",
   "execution_count": 2,
   "metadata": {},
   "outputs": [
    {
     "name": "stdout",
     "output_type": "stream",
     "text": [
      "/mnt/volume_sfo2_02/downloads/google_ngrams/5/googlebooks-eng-us-all-5gram-20120701-z_.gz\n",
      "/mnt/volume_sfo2_02/downloads/google_ngrams/5/googlebooks-eng-us-all-5gram-20120701-za.gz\n",
      "/mnt/volume_sfo2_02/downloads/google_ngrams/5/googlebooks-eng-us-all-5gram-20120701-zb.gz\n",
      "/mnt/volume_sfo2_02/downloads/google_ngrams/5/googlebooks-eng-us-all-5gram-20120701-zc.gz\n",
      "/mnt/volume_sfo2_02/downloads/google_ngrams/5/googlebooks-eng-us-all-5gram-20120701-zd.gz\n",
      "/mnt/volume_sfo2_02/downloads/google_ngrams/5/googlebooks-eng-us-all-5gram-20120701-ze.gz\n",
      "/mnt/volume_sfo2_02/downloads/google_ngrams/5/googlebooks-eng-us-all-5gram-20120701-zf.gz\n",
      "/mnt/volume_sfo2_02/downloads/google_ngrams/5/googlebooks-eng-us-all-5gram-20120701-zg.gz\n",
      "/mnt/volume_sfo2_02/downloads/google_ngrams/5/googlebooks-eng-us-all-5gram-20120701-zh.gz\n",
      "/mnt/volume_sfo2_02/downloads/google_ngrams/5/googlebooks-eng-us-all-5gram-20120701-zi.gz\n",
      "/mnt/volume_sfo2_02/downloads/google_ngrams/5/googlebooks-eng-us-all-5gram-20120701-zj.gz\n",
      "/mnt/volume_sfo2_02/downloads/google_ngrams/5/googlebooks-eng-us-all-5gram-20120701-zk.gz\n",
      "/mnt/volume_sfo2_02/downloads/google_ngrams/5/googlebooks-eng-us-all-5gram-20120701-zl.gz\n",
      "/mnt/volume_sfo2_02/downloads/google_ngrams/5/googlebooks-eng-us-all-5gram-20120701-zm.gz\n",
      "/mnt/volume_sfo2_02/downloads/google_ngrams/5/googlebooks-eng-us-all-5gram-20120701-zn.gz\n",
      "/mnt/volume_sfo2_02/downloads/google_ngrams/5/googlebooks-eng-us-all-5gram-20120701-zo.gz\n",
      "/mnt/volume_sfo2_02/downloads/google_ngrams/5/googlebooks-eng-us-all-5gram-20120701-zp.gz\n",
      "/mnt/volume_sfo2_02/downloads/google_ngrams/5/googlebooks-eng-us-all-5gram-20120701-zq.gz\n",
      "/mnt/volume_sfo2_02/downloads/google_ngrams/5/googlebooks-eng-us-all-5gram-20120701-zr.gz\n",
      "/mnt/volume_sfo2_02/downloads/google_ngrams/5/googlebooks-eng-us-all-5gram-20120701-zs.gz\n",
      "/mnt/volume_sfo2_02/downloads/google_ngrams/5/googlebooks-eng-us-all-5gram-20120701-zt.gz\n",
      "/mnt/volume_sfo2_02/downloads/google_ngrams/5/googlebooks-eng-us-all-5gram-20120701-zu.gz\n",
      "/mnt/volume_sfo2_02/downloads/google_ngrams/5/googlebooks-eng-us-all-5gram-20120701-zv.gz\n",
      "/mnt/volume_sfo2_02/downloads/google_ngrams/5/googlebooks-eng-us-all-5gram-20120701-zw.gz\n",
      "/mnt/volume_sfo2_02/downloads/google_ngrams/5/googlebooks-eng-us-all-5gram-20120701-zx.gz\n",
      "/mnt/volume_sfo2_02/downloads/google_ngrams/5/googlebooks-eng-us-all-5gram-20120701-zy.gz\n",
      "/mnt/volume_sfo2_02/downloads/google_ngrams/5/googlebooks-eng-us-all-5gram-20120701-zz.gz\n"
     ]
    }
   ],
   "source": [
    "!ls /mnt/volume_sfo2_02/downloads/google_ngrams/5/googlebooks-eng-us-all-5gram-20120701-z*.gz"
   ]
  },
  {
   "cell_type": "code",
   "execution_count": 7,
   "metadata": {},
   "outputs": [
    {
     "name": "stderr",
     "output_type": "stream",
     "text": [
      "/home/tianhuil/computational-history/env/lib/python3.6/site-packages/dask/dataframe/core.py:5739: UserWarning: Insufficient elements for `head`. 10000 elements requested, only 305 elements available. Try passing larger `npartitions` to `head`.\n",
      "  warnings.warn(msg.format(n, len(r)))\n"
     ]
    }
   ],
   "source": [
    "GLOB = \"/mnt/volume_sfo2_02/downloads/google_ngrams/5/googlebooks-eng-us-all-5gram-20120701-z*.gz\"\n",
    "OUTPUT_DIR = \"/mnt/volume_sfo2_02/downloads/google_ngrams/5-filtered/\"\n",
    "\n",
    "df = read_ngrams(GLOB)\n",
    "\n",
    "df = df.loc[df['total'] >= 3, :]\n",
    "df = df.head(10000)\n",
    "df = dd.from_pandas(df, npartitions=3)\n",
    "# df = df.repartition(partition_size='64MB')\n",
    "\n",
    "save_ngrams(df, OUTPUT_DIR)"
   ]
  }
 ],
 "metadata": {
  "kernelspec": {
   "display_name": "Python 3",
   "language": "python",
   "name": "python3"
  },
  "language_info": {
   "codemirror_mode": {
    "name": "ipython",
    "version": 3
   },
   "file_extension": ".py",
   "mimetype": "text/x-python",
   "name": "python",
   "nbconvert_exporter": "python",
   "pygments_lexer": "ipython3",
   "version": "3.6.8"
  }
 },
 "nbformat": 4,
 "nbformat_minor": 4
}
