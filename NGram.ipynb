{
 "cells": [
  {
   "cell_type": "code",
   "execution_count": 1,
   "metadata": {},
   "outputs": [],
   "source": [
    "%load_ext autoreload\n",
    "\n",
    "%autoreload 2\n",
    "\n",
    "from glob import glob\n",
    "from dask.delayed import delayed\n",
    "import dask.dataframe as dd\n",
    "import pandas as pd\n",
    "\n",
    "from src.utils import read_ngrams, save_ngrams"
   ]
  },
  {
   "cell_type": "code",
   "execution_count": 3,
   "metadata": {},
   "outputs": [
    {
     "name": "stdout",
     "output_type": "stream",
     "text": [
      "CPU times: user 31.2 s, sys: 1.78 s, total: 32.9 s\n",
      "Wall time: 18.6 s\n"
     ]
    }
   ],
   "source": [
    "%%time\n",
    "\n",
    "GLOB = \"/mnt/volume_sfo2_02/downloads/google_ngrams/5/googlebooks-eng-us-all-5gram-20120701-*.gz\"\n",
    "OUTPUT_DIR = \"/mnt/volume_sfo2_02/downloads/google_ngrams/5-filtered/\"\n",
    "\n",
    "df = read_ngrams(GLOB)\n",
    "\n",
    "df = df.loc[df['total'] >= 3, :]\n",
    "df = df.repartition(partition_size='64MB')\n",
    "\n",
    "save_ngrams(df, OUTPUT_DIR)"
   ]
  }
 ],
 "metadata": {
  "kernelspec": {
   "display_name": "Python 3",
   "language": "python",
   "name": "python3"
  },
  "language_info": {
   "codemirror_mode": {
    "name": "ipython",
    "version": 3
   },
   "file_extension": ".py",
   "mimetype": "text/x-python",
   "name": "python",
   "nbconvert_exporter": "python",
   "pygments_lexer": "ipython3",
   "version": "3.6.8"
  }
 },
 "nbformat": 4,
 "nbformat_minor": 4
}
